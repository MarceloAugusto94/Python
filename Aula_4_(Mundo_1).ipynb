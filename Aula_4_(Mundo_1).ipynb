{
  "nbformat": 4,
  "nbformat_minor": 0,
  "metadata": {
    "colab": {
      "provenance": [],
      "authorship_tag": "ABX9TyMZN8tjjunbZl/JP1U4sQwR"
    },
    "kernelspec": {
      "name": "python3",
      "display_name": "Python 3"
    },
    "language_info": {
      "name": "python"
    }
  },
  "cells": [
    {
      "cell_type": "code",
      "execution_count": 3,
      "metadata": {
        "colab": {
          "base_uri": "https://localhost:8080/"
        },
        "id": "LtCjWvh9U4jc",
        "outputId": "558903d7-09ff-4c6d-a92e-7c05e7fcb423"
      },
      "outputs": [
        {
          "output_type": "stream",
          "name": "stdout",
          "text": [
            "Olá, Mundo! \n",
            "11\n",
            "74\n",
            "Olá 5\n",
            "Guanabara 25 75.8\n"
          ]
        }
      ],
      "source": [
        "print('Olá, Mundo! ')\n",
        "print(7 + 4)\n",
        "print('7' + '4')\n",
        "print('Olá', 5)\n",
        "\n",
        "# toda variável é um objeto\n",
        "nome = 'Guanabara' \n",
        "idade = 25\n",
        "peso = 75.8\n",
        "\n",
        "print(nome, idade, peso)"
      ]
    },
    {
      "cell_type": "code",
      "source": [
        "nome = input('Digite seu nome: ')\n",
        "idade = input('Digite sua idade: ')\n",
        "peso = input('Digite seu peso: ')\n",
        "\n",
        "print(nome, idade, peso)"
      ],
      "metadata": {
        "colab": {
          "base_uri": "https://localhost:8080/"
        },
        "id": "0l8Xd_jxVIco",
        "outputId": "544592d6-442f-47f9-8815-77017bcac72f"
      },
      "execution_count": 4,
      "outputs": [
        {
          "output_type": "stream",
          "name": "stdout",
          "text": [
            "Digite seu nome: Marcelo\n",
            "Digite sua idade: 28\n",
            "Digite seu peso: 83.5\n",
            "Marcelo 28 83.5\n"
          ]
        }
      ]
    },
    {
      "cell_type": "code",
      "source": [
        "# DESAFIO 01 \n",
        "\n",
        "nome = input('Qual é o seu nome? ')\n",
        "print(f\"Olá {nome}, prazer em te conhecer!\")"
      ],
      "metadata": {
        "colab": {
          "base_uri": "https://localhost:8080/"
        },
        "id": "hmGyhg5oXMoS",
        "outputId": "64357b25-1b94-4a80-c0a5-7338c71cc632"
      },
      "execution_count": 17,
      "outputs": [
        {
          "output_type": "stream",
          "name": "stdout",
          "text": [
            "Qual é o seu nome? Marcelo\n",
            "Olá Marcelo, prazer em te conhecer!\n"
          ]
        }
      ]
    },
    {
      "cell_type": "code",
      "source": [
        "# DESAFIO 02\n",
        "\n",
        "dia = input('Dia = ')\n",
        "mes = input('Mes = ')\n",
        "ano = input('Ano = ')\n",
        "print(f'Você nasceu no dia {dia} de {mes} de {ano}. Correto?')"
      ],
      "metadata": {
        "colab": {
          "base_uri": "https://localhost:8080/"
        },
        "id": "CVQtldwPZV8-",
        "outputId": "43ce785d-d4fa-424d-a721-c36ca70e542b"
      },
      "execution_count": 22,
      "outputs": [
        {
          "output_type": "stream",
          "name": "stdout",
          "text": [
            "Dia = 16\n",
            "Mes = Maio\n",
            "Ano = 1994\n",
            "Você nasceu no dia 16 de Maio de 1994. Correto?\n"
          ]
        }
      ]
    },
    {
      "cell_type": "code",
      "source": [
        "# DESAFIO 03\n",
        "\n",
        "n1 = int(input('Primeiro número: '))\n",
        "n2 = int(input('Segundo número: '))\n",
        "print(f'A soma é {n1 + n2}')"
      ],
      "metadata": {
        "colab": {
          "base_uri": "https://localhost:8080/"
        },
        "id": "vXlDuE9yaigH",
        "outputId": "79ed86da-fc09-4fb3-8743-e1b5e36530b3"
      },
      "execution_count": 30,
      "outputs": [
        {
          "output_type": "stream",
          "name": "stdout",
          "text": [
            "Primeiro número: 15\n",
            "Segundo número: 25\n",
            "A soma é 40\n"
          ]
        }
      ]
    }
  ]
}