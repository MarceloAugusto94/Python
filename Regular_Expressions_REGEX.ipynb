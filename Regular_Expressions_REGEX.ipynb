{
  "nbformat": 4,
  "nbformat_minor": 0,
  "metadata": {
    "colab": {
      "provenance": [],
      "authorship_tag": "ABX9TyPtrex2LBIm8bjKmZBhk0ys"
    },
    "kernelspec": {
      "name": "python3",
      "display_name": "Python 3"
    },
    "language_info": {
      "name": "python"
    }
  },
  "cells": [
    {
      "cell_type": "markdown",
      "source": [
        "**Regular Expressions (Regex) - Python**"
      ],
      "metadata": {
        "id": "QWm4owVzfDoo"
      }
    },
    {
      "cell_type": "code",
      "source": [
        "# Importando biblioteca\n",
        "import re"
      ],
      "metadata": {
        "id": "AJdph9cTfSFN"
      },
      "execution_count": 5,
      "outputs": []
    },
    {
      "cell_type": "markdown",
      "source": [
        "**Caracteres:**"
      ],
      "metadata": {
        "id": "ILzGWv_tfwOH"
      }
    },
    {
      "cell_type": "code",
      "source": [
        "# .  - Entende qualquer valor exceto uma nova linha (\\n)\n",
        "# \\. - Para buscar o caracter \".\"\n",
        "\n",
        "texto = '''\n",
        "ar\\nra\n",
        "arara\n",
        "arbra\n",
        "'''\n",
        "padrao = re.compile(\"ar.ra\") \n",
        "check = padrao.findall(texto)\n",
        "print(check)"
      ],
      "metadata": {
        "colab": {
          "base_uri": "https://localhost:8080/"
        },
        "id": "Q0p3-pR2fyzb",
        "outputId": "d5a44dd7-c49f-4d58-9856-7c8adca9ba2a"
      },
      "execution_count": null,
      "outputs": [
        {
          "output_type": "stream",
          "name": "stdout",
          "text": [
            "['arara', 'arbra']\n"
          ]
        }
      ]
    },
    {
      "cell_type": "code",
      "source": [
        "# ^  - Irá testar o início da string\n",
        "#[^] - Irá considerar todos os caracteres EXCETO o indicado\n",
        "\n",
        "texto = \"arara\"\n",
        "p1 = re.compile(\"^a\") # se uma string começar com 'a'.. \n",
        "p2 = re.compile(\"[^a]\") # busca todos os caracteres menos 'a'\n",
        "check = p1.findall(texto)\n",
        "check2 = p2.findall(texto)\n",
        "print(check)\n",
        "print(check2)"
      ],
      "metadata": {
        "id": "GeuCCrNJgAaf",
        "outputId": "204404db-642d-44cd-c5ad-3634c6fb1444",
        "colab": {
          "base_uri": "https://localhost:8080/"
        }
      },
      "execution_count": 8,
      "outputs": [
        {
          "output_type": "stream",
          "name": "stdout",
          "text": [
            "['a']\n",
            "['r', 'r']\n"
          ]
        }
      ]
    },
    {
      "cell_type": "code",
      "source": [
        "# \\d - Qualquer caracter que SEJA um algarismo de 0 a 9\n",
        "# \\D - Qualquer caracter que NÃO SEJA um algarismo de 0 a 9\n",
        "\n",
        "texto = \"arara1992\"\n",
        "p1 = re.compile(r\"\\d\") # 'r' para dizer que é relacionado ao REGEX\n",
        "p2 = re.compile(r'\\D')\n",
        "check = p1.findall(texto)\n",
        "check2 = p2.findall(texto)\n",
        "print(check)\n",
        "print(check2)"
      ],
      "metadata": {
        "id": "HR_XWIY1gR-b",
        "outputId": "cebcbc5a-8866-42d6-dabd-7db5ab28d002",
        "colab": {
          "base_uri": "https://localhost:8080/"
        }
      },
      "execution_count": 12,
      "outputs": [
        {
          "output_type": "stream",
          "name": "stdout",
          "text": [
            "['1', '9', '9', '2']\n",
            "['a', 'r', 'a', 'r', 'a']\n"
          ]
        }
      ]
    },
    {
      "cell_type": "code",
      "source": [
        "# \\s - Qualquer caracter que SEJA vazio\n",
        "# \\S - Qualquer caracter que NÃO SEJA vazio\n",
        "\n",
        "texto = ''' \n",
        "\n",
        "arara 1992\n",
        "\n",
        "'''\n",
        "\n",
        "p1 = re.compile(r\"\\s\")\n",
        "p2 = re.compile(r\"\\S\")\n",
        "check = p1.findall(texto)\n",
        "check2 = p2.findall(texto)\n",
        "print(check)\n",
        "print(check2)"
      ],
      "metadata": {
        "id": "pxUUEsbYg2Vi",
        "outputId": "63b5b3c0-d61f-4da4-c15d-ba4afe34806a",
        "colab": {
          "base_uri": "https://localhost:8080/"
        }
      },
      "execution_count": 14,
      "outputs": [
        {
          "output_type": "stream",
          "name": "stdout",
          "text": [
            "[' ', '\\n', '\\n', ' ', '\\n', '\\n']\n",
            "['a', 'r', 'a', 'r', 'a', '1', '9', '9', '2']\n"
          ]
        }
      ]
    },
    {
      "cell_type": "code",
      "source": [
        "# \\w - Qualquer caracter que SEJA alfanumérico\n",
        "# \\W - Qualquer caracter que NÃO SEJA alfanumérico"
      ],
      "metadata": {
        "id": "yZzL_WN1hgvO"
      },
      "execution_count": null,
      "outputs": []
    },
    {
      "cell_type": "markdown",
      "source": [
        "**Exemplo de classe com uso de re.search()**"
      ],
      "metadata": {
        "id": "UT7ePqXVtHna"
      }
    },
    {
      "cell_type": "code",
      "source": [
        "import re\n",
        "\n",
        "class Estoque:\n",
        "  def __init__(self, item, preco):\n",
        "    self.item = item\n",
        "    self.preco = preco\n",
        "\n",
        "  def aplica_desconto(self, percentual):\n",
        "    self.preco = self.preco - (self.preco * (percentual / 100) )\n",
        "\n",
        "  @property # decorator\n",
        "  def preco(self):\n",
        "    return self._preco # tem _ no preco\n",
        "\n",
        "  @preco.setter\n",
        "  def preco(self, novo_preco):\n",
        "    if isinstance(novo_preco, str):\n",
        "      novo_preco = re.search(r'(\\d+)', novo_preco)\n",
        "    self._preco = novo_preco\n",
        "\n",
        "calcado001 = Estoque('Tênis Adidas 44', 299)\n",
        "calcado001.aplica_desconto(20)\n",
        "\n",
        "\n",
        "print(f'{calcado001.item} // Valor com desconto: R$ {calcado001.preco}')"
      ],
      "metadata": {
        "colab": {
          "base_uri": "https://localhost:8080/"
        },
        "id": "iV35tL7FsKf-",
        "outputId": "11193856-1e57-4ab9-bde6-8d55c5615a13"
      },
      "execution_count": 3,
      "outputs": [
        {
          "output_type": "stream",
          "name": "stdout",
          "text": [
            "Tênis Adidas 44 // Valor com desconto: R$ 239.2\n"
          ]
        }
      ]
    }
  ]
}