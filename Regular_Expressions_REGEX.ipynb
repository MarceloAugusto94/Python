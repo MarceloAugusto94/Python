{
  "nbformat": 4,
  "nbformat_minor": 0,
  "metadata": {
    "colab": {
      "provenance": [],
      "authorship_tag": "ABX9TyORSfJrAG9HEWSl23fP5yHV"
    },
    "kernelspec": {
      "name": "python3",
      "display_name": "Python 3"
    },
    "language_info": {
      "name": "python"
    }
  },
  "cells": [
    {
      "cell_type": "markdown",
      "source": [
        "**Regular Expressions (Regex) - Python**"
      ],
      "metadata": {
        "id": "QWm4owVzfDoo"
      }
    },
    {
      "cell_type": "code",
      "source": [
        "# Importando biblioteca\n",
        "import re"
      ],
      "metadata": {
        "id": "AJdph9cTfSFN"
      },
      "execution_count": 2,
      "outputs": []
    },
    {
      "cell_type": "markdown",
      "source": [
        "**Caracteres:**"
      ],
      "metadata": {
        "id": "ILzGWv_tfwOH"
      }
    },
    {
      "cell_type": "code",
      "source": [
        "# .  - Entende qualquer valor exceto uma nova linha (\\n)\n",
        "# \\. - Para buscar o caracter \".\"\n",
        "\n",
        "texto = '''\n",
        "ar\\nra\n",
        "arara\n",
        "arbra\n",
        "'''\n",
        "padrao = re.compile(\"ar.ra\") \n",
        "check = padrao.findall(texto)\n",
        "print(check)"
      ],
      "metadata": {
        "colab": {
          "base_uri": "https://localhost:8080/"
        },
        "id": "Q0p3-pR2fyzb",
        "outputId": "d5a44dd7-c49f-4d58-9856-7c8adca9ba2a"
      },
      "execution_count": null,
      "outputs": [
        {
          "output_type": "stream",
          "name": "stdout",
          "text": [
            "['arara', 'arbra']\n"
          ]
        }
      ]
    },
    {
      "cell_type": "code",
      "source": [
        "# ^  - Irá testar o início da string\n",
        "#[^] - Irá considerar todos os caracteres EXCETO o indicado\n",
        "\n",
        "texto = \"arara\"\n",
        "p1 = re.compile(\"^a\") # se uma string começar com 'a'.. \n",
        "p2 = re.compile(\"[^a]\") # busca todos os caracteres menos 'a'\n",
        "check = p1.findall(texto)\n",
        "check2 = p2.findall(texto)\n",
        "print(check)\n",
        "print(check2)"
      ],
      "metadata": {
        "id": "GeuCCrNJgAaf",
        "colab": {
          "base_uri": "https://localhost:8080/"
        },
        "outputId": "204404db-642d-44cd-c5ad-3634c6fb1444"
      },
      "execution_count": 8,
      "outputs": [
        {
          "output_type": "stream",
          "name": "stdout",
          "text": [
            "['a']\n",
            "['r', 'r']\n"
          ]
        }
      ]
    },
    {
      "cell_type": "code",
      "source": [
        "# \\d - Qualquer caracter que SEJA um algarismo de 0 a 9\n",
        "# \\D - Qualquer caracter que NÃO SEJA um algarismo de 0 a 9\n",
        "\n",
        "texto = \"arara1992\"\n",
        "p1 = re.compile(r\"\\d\") # 'r' para dizer que é relacionado ao REGEX\n",
        "p2 = re.compile(r'\\D')\n",
        "check = p1.findall(texto)\n",
        "check2 = p2.findall(texto)\n",
        "print(check)\n",
        "print(check2)"
      ],
      "metadata": {
        "id": "HR_XWIY1gR-b",
        "colab": {
          "base_uri": "https://localhost:8080/"
        },
        "outputId": "cebcbc5a-8866-42d6-dabd-7db5ab28d002"
      },
      "execution_count": 12,
      "outputs": [
        {
          "output_type": "stream",
          "name": "stdout",
          "text": [
            "['1', '9', '9', '2']\n",
            "['a', 'r', 'a', 'r', 'a']\n"
          ]
        }
      ]
    },
    {
      "cell_type": "code",
      "source": [
        "# \\s - Qualquer caracter que SEJA vazio\n",
        "# \\S - Qualquer caracter que NÃO SEJA vazio\n",
        "\n",
        "texto = ''' \n",
        "\n",
        "arara 1992\n",
        "\n",
        "'''\n",
        "\n",
        "p1 = re.compile(r\"\\s\")\n",
        "p2 = re.compile(r\"\\S\")\n",
        "check = p1.findall(texto)\n",
        "check2 = p2.findall(texto)\n",
        "print(check)\n",
        "print(check2)"
      ],
      "metadata": {
        "id": "pxUUEsbYg2Vi",
        "colab": {
          "base_uri": "https://localhost:8080/"
        },
        "outputId": "63b5b3c0-d61f-4da4-c15d-ba4afe34806a"
      },
      "execution_count": 14,
      "outputs": [
        {
          "output_type": "stream",
          "name": "stdout",
          "text": [
            "[' ', '\\n', '\\n', ' ', '\\n', '\\n']\n",
            "['a', 'r', 'a', 'r', 'a', '1', '9', '9', '2']\n"
          ]
        }
      ]
    },
    {
      "cell_type": "code",
      "source": [
        "# \\w - Qualquer caracter que SEJA alfanumérico\n",
        "# \\W - Qualquer caracter que NÃO SEJA alfanumérico\n",
        "\n",
        "texto = '''\n",
        "\n",
        "_arara@ 1992_\n",
        "\n",
        "'''\n",
        "\n",
        "p1 = re.compile(r'\\w')\n",
        "p2 = re.compile(r'\\W')\n",
        "check = p1.findall(texto)\n",
        "check2 = p2.findall(texto)\n",
        "print(check)\n",
        "print(check2)"
      ],
      "metadata": {
        "id": "yZzL_WN1hgvO",
        "colab": {
          "base_uri": "https://localhost:8080/"
        },
        "outputId": "f54d8470-8d36-4c28-df49-e6a5ae4329ba"
      },
      "execution_count": 6,
      "outputs": [
        {
          "output_type": "stream",
          "name": "stdout",
          "text": [
            "['_', 'a', 'r', 'a', 'r', 'a', '1', '9', '9', '2', '_']\n",
            "['\\n', '\\n', '@', ' ', '\\n', '\\n']\n"
          ]
        }
      ]
    },
    {
      "cell_type": "markdown",
      "source": [
        "**Métodos de checagem:**"
      ],
      "metadata": {
        "id": "Oxy2CkhQ_OuA"
      }
    },
    {
      "cell_type": "code",
      "source": [
        "texto = 'arara'\n",
        "\n",
        "p1 = re.compile(r'r')\n",
        "check_findall = p1.findall(texto)\n",
        "check_match = p1.match(texto)  # início da string\n",
        "check_search = p1.search(texto) # qualquer parte da string\n",
        "check_finditer = p1.finditer(texto) # iterador\n",
        "print(check_findall)\n",
        "print(check_match)\n",
        "print(check_search)\n",
        "print(check_finditer)\n",
        "\n",
        "print(texto[0]) # span(0, 1)"
      ],
      "metadata": {
        "id": "oVCbKH6k_bah",
        "outputId": "9e7576d0-a7da-42b7-8e83-4873eaf3d368",
        "colab": {
          "base_uri": "https://localhost:8080/"
        }
      },
      "execution_count": 11,
      "outputs": [
        {
          "output_type": "stream",
          "name": "stdout",
          "text": [
            "['r', 'r']\n",
            "None\n",
            "<re.Match object; span=(1, 2), match='r'>\n",
            "<callable_iterator object at 0x7f022909e250>\n",
            "a\n"
          ]
        }
      ]
    },
    {
      "cell_type": "code",
      "source": [
        "# exemplo com finditer\n",
        "\n",
        "correspondencias = check_finditer\n",
        "\n",
        "for correspondencia in correspondencias:\n",
        "  print(correspondencia)"
      ],
      "metadata": {
        "id": "gSJxiiVD_bPh",
        "outputId": "06a56eb6-d389-4384-fc68-6edfe22c4818",
        "colab": {
          "base_uri": "https://localhost:8080/"
        }
      },
      "execution_count": 12,
      "outputs": [
        {
          "output_type": "stream",
          "name": "stdout",
          "text": [
            "<re.Match object; span=(1, 2), match='r'>\n",
            "<re.Match object; span=(3, 4), match='r'>\n"
          ]
        }
      ]
    },
    {
      "cell_type": "markdown",
      "source": [
        "**Estruturas**"
      ],
      "metadata": {
        "id": "GJRLxmfbBt93"
      }
    },
    {
      "cell_type": "markdown",
      "source": [
        "**[] Character set**"
      ],
      "metadata": {
        "id": "ZYoRJnY7By4d"
      }
    },
    {
      "cell_type": "code",
      "source": [
        "texto = '''\n",
        "Arara 1992\n",
        "'''\n",
        "\n",
        "p = re.compile(r'[a-zA-Z0-9]')\n",
        "correspondencias = p.finditer(texto)\n",
        "\n",
        "for correspondencia in correspondencias:\n",
        "  print(correspondencia)"
      ],
      "metadata": {
        "id": "g3jDd8xxB2AB",
        "outputId": "e0147aae-5318-4650-8f84-e6e023301121",
        "colab": {
          "base_uri": "https://localhost:8080/"
        }
      },
      "execution_count": 16,
      "outputs": [
        {
          "output_type": "stream",
          "name": "stdout",
          "text": [
            "<re.Match object; span=(1, 2), match='A'>\n",
            "<re.Match object; span=(2, 3), match='r'>\n",
            "<re.Match object; span=(3, 4), match='a'>\n",
            "<re.Match object; span=(4, 5), match='r'>\n",
            "<re.Match object; span=(5, 6), match='a'>\n",
            "<re.Match object; span=(7, 8), match='1'>\n",
            "<re.Match object; span=(8, 9), match='9'>\n",
            "<re.Match object; span=(9, 10), match='9'>\n",
            "<re.Match object; span=(10, 11), match='2'>\n"
          ]
        }
      ]
    },
    {
      "cell_type": "code",
      "source": [
        "texto = '''\n",
        "Arara 1992\n",
        "'''\n",
        "\n",
        "p = re.compile(r'[a-zA-Z] [0-9]') # dois padrões\n",
        "correspondencias = p.finditer(texto)\n",
        "\n",
        "for correspondencia in correspondencias:\n",
        "  print(correspondencia)"
      ],
      "metadata": {
        "id": "dIikLqTuB3Ur",
        "outputId": "887d30b5-cb88-41d7-9097-76669b0b0cc8",
        "colab": {
          "base_uri": "https://localhost:8080/"
        }
      },
      "execution_count": 20,
      "outputs": [
        {
          "output_type": "stream",
          "name": "stdout",
          "text": [
            "<re.Match object; span=(5, 8), match='a 1'>\n"
          ]
        }
      ]
    },
    {
      "cell_type": "code",
      "source": [
        "texto = '''\n",
        "Arara 1992\n",
        "Arara1992  \n",
        "Ara 192\n",
        "'''\n",
        "\n",
        "p = re.compile(r'[a-zA-Z]+ [0-9]+') # + > caracter que aparece uma ou mais vezes\n",
        "correspondencias = p.finditer(texto)\n",
        "\n",
        "for correspondencia in correspondencias:\n",
        "  print(correspondencia)"
      ],
      "metadata": {
        "id": "FclYFrW-ICv2",
        "outputId": "0882f5f9-c3ff-47bd-cffb-284ecceca0b0",
        "colab": {
          "base_uri": "https://localhost:8080/"
        }
      },
      "execution_count": 26,
      "outputs": [
        {
          "output_type": "stream",
          "name": "stdout",
          "text": [
            "<re.Match object; span=(1, 11), match='Arara 1992'>\n",
            "<re.Match object; span=(24, 31), match='Ara 192'>\n"
          ]
        }
      ]
    },
    {
      "cell_type": "markdown",
      "source": [
        "**Quantificadores**"
      ],
      "metadata": {
        "id": "_EsR6IR5B-zu"
      }
    },
    {
      "cell_type": "code",
      "source": [
        "# * - 0 ou mais\n",
        "\n",
        "texto = '''\n",
        "Arara\n",
        "'''\n",
        "\n",
        "p = re.compile(r'[ra]*')\n",
        "correspondencias = p.finditer(texto)\n",
        "\n",
        "for correspondencia in correspondencias:\n",
        "  print(correspondencia)"
      ],
      "metadata": {
        "id": "fRyy-t3wCCCm",
        "outputId": "fb49a736-eaba-405b-e171-9a2bce01bd0b",
        "colab": {
          "base_uri": "https://localhost:8080/"
        }
      },
      "execution_count": 32,
      "outputs": [
        {
          "output_type": "stream",
          "name": "stdout",
          "text": [
            "<re.Match object; span=(0, 0), match=''>\n",
            "<re.Match object; span=(1, 1), match=''>\n",
            "<re.Match object; span=(2, 6), match='rara'>\n",
            "<re.Match object; span=(6, 6), match=''>\n",
            "<re.Match object; span=(7, 7), match=''>\n"
          ]
        }
      ]
    },
    {
      "cell_type": "code",
      "source": [
        "# + - 1 ou mais\n",
        "\n",
        "texto = '''\n",
        "Arara\n",
        "'''\n",
        "\n",
        "p = re.compile(r'[ra]+')\n",
        "correspondencias = p.finditer(texto)\n",
        "\n",
        "for correspondencia in correspondencias:\n",
        "  print(correspondencia)"
      ],
      "metadata": {
        "id": "zxo7FW2bCB_4",
        "outputId": "bfe7d7b4-3743-4130-c445-c2decd7d6811",
        "colab": {
          "base_uri": "https://localhost:8080/"
        }
      },
      "execution_count": 33,
      "outputs": [
        {
          "output_type": "stream",
          "name": "stdout",
          "text": [
            "<re.Match object; span=(2, 6), match='rara'>\n"
          ]
        }
      ]
    },
    {
      "cell_type": "code",
      "source": [
        "# ? - 0 ou um\n",
        "\n",
        "texto = '''\n",
        "Arara\n",
        "'''\n",
        "\n",
        "p = re.compile(r'[ra]?')\n",
        "correspondencias = p.finditer(texto)\n",
        "\n",
        "for correspondencia in correspondencias:\n",
        "  print(correspondencia)"
      ],
      "metadata": {
        "id": "fVyb2GaOIOen",
        "outputId": "00b87437-5a20-4d55-9b4b-032f68678e26",
        "colab": {
          "base_uri": "https://localhost:8080/"
        }
      },
      "execution_count": 34,
      "outputs": [
        {
          "output_type": "stream",
          "name": "stdout",
          "text": [
            "<re.Match object; span=(0, 0), match=''>\n",
            "<re.Match object; span=(1, 1), match=''>\n",
            "<re.Match object; span=(2, 3), match='r'>\n",
            "<re.Match object; span=(3, 4), match='a'>\n",
            "<re.Match object; span=(4, 5), match='r'>\n",
            "<re.Match object; span=(5, 6), match='a'>\n",
            "<re.Match object; span=(6, 6), match=''>\n",
            "<re.Match object; span=(7, 7), match=''>\n"
          ]
        }
      ]
    },
    {
      "cell_type": "code",
      "source": [
        "# {3} - número axato de repetições\n",
        "\n",
        "texto = '''\n",
        "Arara\n",
        "'''\n",
        "\n",
        "p = re.compile(r'[ra]{2}')\n",
        "correspondencias = p.finditer(texto)\n",
        "\n",
        "for correspondencia in correspondencias:\n",
        "  print(correspondencia)"
      ],
      "metadata": {
        "id": "pEgyrn50IOYJ",
        "outputId": "cef48cb5-dff4-4f9b-b114-1bb5991e73f3",
        "colab": {
          "base_uri": "https://localhost:8080/"
        }
      },
      "execution_count": 35,
      "outputs": [
        {
          "output_type": "stream",
          "name": "stdout",
          "text": [
            "<re.Match object; span=(2, 4), match='ra'>\n",
            "<re.Match object; span=(4, 6), match='ra'>\n"
          ]
        }
      ]
    },
    {
      "cell_type": "code",
      "source": [
        "# {3, 4} - de 3 a 4 min e max\n",
        "\n",
        "texto = '''\n",
        "Arara\n",
        "'''\n",
        "\n",
        "p = re.compile(r'[ra]{2,4}')\n",
        "correspondencias = p.finditer(texto)\n",
        "\n",
        "for correspondencia in correspondencias:\n",
        "  print(correspondencia)"
      ],
      "metadata": {
        "id": "g-mfBJC3IOP4",
        "outputId": "f0479c34-9b37-4f8b-ac22-ceedcfe18183",
        "colab": {
          "base_uri": "https://localhost:8080/"
        }
      },
      "execution_count": 36,
      "outputs": [
        {
          "output_type": "stream",
          "name": "stdout",
          "text": [
            "<re.Match object; span=(2, 6), match='rara'>\n"
          ]
        }
      ]
    },
    {
      "cell_type": "markdown",
      "source": [
        "**Exemplo de classe com uso de re.search()**"
      ],
      "metadata": {
        "id": "UT7ePqXVtHna"
      }
    },
    {
      "cell_type": "code",
      "source": [
        "import re\n",
        "\n",
        "class Estoque:\n",
        "  def __init__(self, item, preco):\n",
        "    self.item = item\n",
        "    self.preco = preco\n",
        "\n",
        "  def aplica_desconto(self, percentual):\n",
        "    self.preco = self.preco - (self.preco * (percentual / 100) )\n",
        "\n",
        "  @property # decorator\n",
        "  def preco(self):\n",
        "    return self._preco # tem _ no preco\n",
        "\n",
        "  @preco.setter\n",
        "  def preco(self, novo_preco):\n",
        "    if isinstance(novo_preco, str):\n",
        "      novo_preco = re.search(r'(\\d+)', novo_preco)\n",
        "    self._preco = novo_preco\n",
        "\n",
        "calcado001 = Estoque('Tênis Adidas 44', 299)\n",
        "calcado001.aplica_desconto(20)\n",
        "\n",
        "\n",
        "print(f'{calcado001.item} // Valor com desconto: R$ {calcado001.preco}')"
      ],
      "metadata": {
        "colab": {
          "base_uri": "https://localhost:8080/"
        },
        "id": "iV35tL7FsKf-",
        "outputId": "11193856-1e57-4ab9-bde6-8d55c5615a13"
      },
      "execution_count": 3,
      "outputs": [
        {
          "output_type": "stream",
          "name": "stdout",
          "text": [
            "Tênis Adidas 44 // Valor com desconto: R$ 239.2\n"
          ]
        }
      ]
    }
  ]
}