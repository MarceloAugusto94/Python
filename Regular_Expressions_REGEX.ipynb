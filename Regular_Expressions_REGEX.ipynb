{
  "nbformat": 4,
  "nbformat_minor": 0,
  "metadata": {
    "colab": {
      "provenance": [],
      "authorship_tag": "ABX9TyOdyWmP5NTOj8Bym/w+n6/6"
    },
    "kernelspec": {
      "name": "python3",
      "display_name": "Python 3"
    },
    "language_info": {
      "name": "python"
    }
  },
  "cells": [
    {
      "cell_type": "markdown",
      "source": [
        "**Regular Expressions (Regex) - Python**"
      ],
      "metadata": {
        "id": "QWm4owVzfDoo"
      }
    },
    {
      "cell_type": "code",
      "source": [
        "# Importando biblioteca\n",
        "import re"
      ],
      "metadata": {
        "id": "AJdph9cTfSFN"
      },
      "execution_count": 3,
      "outputs": []
    },
    {
      "cell_type": "markdown",
      "source": [
        "**Caracteres:**"
      ],
      "metadata": {
        "id": "ILzGWv_tfwOH"
      }
    },
    {
      "cell_type": "code",
      "source": [
        "# .  - Entende qualquer valor exceto uma nova linha (\\n)\n",
        "# \\. - Para buscar o caracter \".\"\n",
        "\n",
        "texto = '''\n",
        "ar\\nra\n",
        "arara\n",
        "arbra\n",
        "'''\n",
        "padrao = re.compile(\"ar.ra\") \n",
        "check = padrao.findall(texto)\n",
        "print(check)"
      ],
      "metadata": {
        "colab": {
          "base_uri": "https://localhost:8080/"
        },
        "id": "Q0p3-pR2fyzb",
        "outputId": "d5a44dd7-c49f-4d58-9856-7c8adca9ba2a"
      },
      "execution_count": 6,
      "outputs": [
        {
          "output_type": "stream",
          "name": "stdout",
          "text": [
            "['arara', 'arbra']\n"
          ]
        }
      ]
    },
    {
      "cell_type": "code",
      "source": [
        "# ^  - Irá testar o início da string\n",
        "#[^] - Irá considerar todos os caracteres EXCETO o indicado"
      ],
      "metadata": {
        "id": "GeuCCrNJgAaf"
      },
      "execution_count": null,
      "outputs": []
    },
    {
      "cell_type": "code",
      "source": [
        "# \\d - Qualquer caracter que SEJA um algarismo de 0 a 9\n",
        "# \\D - Qualquer caracter que NÃO SEJA um algarismo de 0 a 9"
      ],
      "metadata": {
        "id": "HR_XWIY1gR-b"
      },
      "execution_count": null,
      "outputs": []
    },
    {
      "cell_type": "code",
      "source": [
        "# \\s - Qualquer caracter que SEJA vazio\n",
        "# \\S - Qualquer caracter que NÃO SEJA vazio"
      ],
      "metadata": {
        "id": "pxUUEsbYg2Vi"
      },
      "execution_count": null,
      "outputs": []
    },
    {
      "cell_type": "code",
      "source": [
        "# \\w - Qualquer caracter que SEJA alfanumérico\n",
        "# \\W - Qualquer caracter que NÃO SEJA alfanumérico"
      ],
      "metadata": {
        "id": "yZzL_WN1hgvO"
      },
      "execution_count": null,
      "outputs": []
    }
  ]
}