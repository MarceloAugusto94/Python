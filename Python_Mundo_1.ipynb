{
  "nbformat": 4,
  "nbformat_minor": 0,
  "metadata": {
    "colab": {
      "provenance": [],
      "authorship_tag": "ABX9TyOTaF12RHa06G8ZBGUSNRpG"
    },
    "kernelspec": {
      "name": "python3",
      "display_name": "Python 3"
    },
    "language_info": {
      "name": "python"
    }
  },
  "cells": [
    {
      "cell_type": "code",
      "execution_count": null,
      "metadata": {
        "colab": {
          "base_uri": "https://localhost:8080/"
        },
        "id": "LtCjWvh9U4jc",
        "outputId": "558903d7-09ff-4c6d-a92e-7c05e7fcb423"
      },
      "outputs": [
        {
          "output_type": "stream",
          "name": "stdout",
          "text": [
            "Olá, Mundo! \n",
            "11\n",
            "74\n",
            "Olá 5\n",
            "Guanabara 25 75.8\n"
          ]
        }
      ],
      "source": [
        "print('Olá, Mundo! ')\n",
        "print(7 + 4)\n",
        "print('7' + '4')\n",
        "print('Olá', 5)\n",
        "\n",
        "# toda variável é um objeto\n",
        "nome = 'Guanabara' \n",
        "idade = 25\n",
        "peso = 75.8\n",
        "\n",
        "print(nome, idade, peso)"
      ]
    },
    {
      "cell_type": "code",
      "source": [
        "nome = input('Digite seu nome: ')\n",
        "idade = input('Digite sua idade: ')\n",
        "peso = input('Digite seu peso: ')\n",
        "\n",
        "print(nome, idade, peso)"
      ],
      "metadata": {
        "colab": {
          "base_uri": "https://localhost:8080/"
        },
        "id": "0l8Xd_jxVIco",
        "outputId": "544592d6-442f-47f9-8815-77017bcac72f"
      },
      "execution_count": null,
      "outputs": [
        {
          "output_type": "stream",
          "name": "stdout",
          "text": [
            "Digite seu nome: Marcelo\n",
            "Digite sua idade: 28\n",
            "Digite seu peso: 83.5\n",
            "Marcelo 28 83.5\n"
          ]
        }
      ]
    },
    {
      "cell_type": "code",
      "source": [
        "# DESAFIO 01 \n",
        "\n",
        "nome = input('Qual é o seu nome? ')\n",
        "print(f\"Olá {nome}, prazer em te conhecer!\")"
      ],
      "metadata": {
        "colab": {
          "base_uri": "https://localhost:8080/"
        },
        "id": "hmGyhg5oXMoS",
        "outputId": "64357b25-1b94-4a80-c0a5-7338c71cc632"
      },
      "execution_count": null,
      "outputs": [
        {
          "output_type": "stream",
          "name": "stdout",
          "text": [
            "Qual é o seu nome? Marcelo\n",
            "Olá Marcelo, prazer em te conhecer!\n"
          ]
        }
      ]
    },
    {
      "cell_type": "code",
      "source": [
        "# DESAFIO 02\n",
        "\n",
        "dia = input('Dia = ')\n",
        "mes = input('Mes = ')\n",
        "ano = input('Ano = ')\n",
        "print(f'Você nasceu no dia {dia} de {mes} de {ano}. Correto?')"
      ],
      "metadata": {
        "colab": {
          "base_uri": "https://localhost:8080/"
        },
        "id": "CVQtldwPZV8-",
        "outputId": "43ce785d-d4fa-424d-a721-c36ca70e542b"
      },
      "execution_count": null,
      "outputs": [
        {
          "output_type": "stream",
          "name": "stdout",
          "text": [
            "Dia = 16\n",
            "Mes = Maio\n",
            "Ano = 1994\n",
            "Você nasceu no dia 16 de Maio de 1994. Correto?\n"
          ]
        }
      ]
    },
    {
      "cell_type": "code",
      "source": [
        "# DESAFIO 03\n",
        "\n",
        "n1 = int(input('Primeiro número: '))\n",
        "n2 = int(input('Segundo número: '))\n",
        "print(f'A soma é {n1 + n2}')"
      ],
      "metadata": {
        "colab": {
          "base_uri": "https://localhost:8080/"
        },
        "id": "vXlDuE9yaigH",
        "outputId": "79ed86da-fc09-4fb3-8743-e1b5e36530b3"
      },
      "execution_count": null,
      "outputs": [
        {
          "output_type": "stream",
          "name": "stdout",
          "text": [
            "Primeiro número: 15\n",
            "Segundo número: 25\n",
            "A soma é 40\n"
          ]
        }
      ]
    },
    {
      "cell_type": "code",
      "source": [
        "# DESAFIO 03\n",
        "\n",
        "n1 = int(input('Primeiro número: '))\n",
        "n2 = int(input('Segundo número: '))\n",
        "soma = n1 + n2\n",
        "print('A soma entre {0} e {1} é {2}'.format(n1, n2, soma))"
      ],
      "metadata": {
        "colab": {
          "base_uri": "https://localhost:8080/"
        },
        "id": "p4plnHkmwLvw",
        "outputId": "f08e5ed4-739a-44d4-ef2c-003e7ba24fbe"
      },
      "execution_count": null,
      "outputs": [
        {
          "output_type": "stream",
          "name": "stdout",
          "text": [
            "Primeiro número: 5\n",
            "Segundo número: 10\n",
            "A soma entre 5 e 10 é 15\n"
          ]
        }
      ]
    },
    {
      "cell_type": "code",
      "source": [
        "n = input('Digite algo: ')\n",
        "print(n.isnumeric())"
      ],
      "metadata": {
        "colab": {
          "base_uri": "https://localhost:8080/"
        },
        "id": "iVM7dhaZxOws",
        "outputId": "c064a85b-937e-47bb-ba97-1e6c787f7f3e"
      },
      "execution_count": null,
      "outputs": [
        {
          "output_type": "stream",
          "name": "stdout",
          "text": [
            "Digite algo: 5\n",
            "True\n"
          ]
        }
      ]
    },
    {
      "cell_type": "code",
      "source": [
        "n = input('Digite algo: ')\n",
        "print(n.isalpha())"
      ],
      "metadata": {
        "colab": {
          "base_uri": "https://localhost:8080/"
        },
        "id": "muEzwQXeyU1C",
        "outputId": "35be0cb0-7adb-4be9-830a-7251d0e8b3f1"
      },
      "execution_count": null,
      "outputs": [
        {
          "output_type": "stream",
          "name": "stdout",
          "text": [
            "Digite algo: A\n",
            "True\n"
          ]
        }
      ]
    },
    {
      "cell_type": "code",
      "source": [
        "n = input('Digite algo: ')\n",
        "print(n.isalnum())"
      ],
      "metadata": {
        "colab": {
          "base_uri": "https://localhost:8080/"
        },
        "id": "wU3QlxXtyfyW",
        "outputId": "c4443afd-9b1c-4f41-bc08-9f8a18691173"
      },
      "execution_count": null,
      "outputs": [
        {
          "output_type": "stream",
          "name": "stdout",
          "text": [
            "Digite algo: 3A\n",
            "True\n"
          ]
        }
      ]
    },
    {
      "cell_type": "code",
      "source": [
        "informacao = input('Digite algo: ')\n",
        "print(type(informacao))\n",
        "print(informacao.isnumeric())\n",
        "print(informacao.isalpha())\n",
        "print(informacao.isalnum())"
      ],
      "metadata": {
        "colab": {
          "base_uri": "https://localhost:8080/"
        },
        "id": "s-Dh39TizGhQ",
        "outputId": "ad4999e8-961f-455d-9d93-63fa838b65d4"
      },
      "execution_count": null,
      "outputs": [
        {
          "output_type": "stream",
          "name": "stdout",
          "text": [
            "Digite algo: 5H\n",
            "<class 'str'>\n",
            "False\n",
            "False\n",
            "True\n"
          ]
        }
      ]
    },
    {
      "cell_type": "code",
      "source": [
        "# DESAFIO 04\n",
        "\n",
        "a = input('Digite algo: ')\n",
        "print(f'O tipo primitivo desse valor é {type(a)}')\n",
        "print(f'Só tem espaços? {a.isspace()}')\n",
        "print(f'É um número? {a.isnumeric()}')\n",
        "print(f'É alfabético? {a.isalpha()}')\n",
        "print(f'É alfanumérico? {a.isalnum()}')\n",
        "print(f'Está em maiúsculas? {a.isupper()}')\n",
        "print(f'Está em minúsculas? {a.islower()}')\n",
        "print(f'Está capitalizada? {a.istitle()}')"
      ],
      "metadata": {
        "colab": {
          "base_uri": "https://localhost:8080/"
        },
        "id": "JkdZekFueswX",
        "outputId": "009d8c41-9809-4122-ef20-b5fb6ba5f9b6"
      },
      "execution_count": 17,
      "outputs": [
        {
          "output_type": "stream",
          "name": "stdout",
          "text": [
            "Digite algo: Python\n",
            "O tipo primitivo desse valor é <class 'str'>\n",
            "Só tem espaços? False\n",
            "É um número? False\n",
            "É alfabético? True\n",
            "É alfanumérico? True\n",
            "Está em maiúsculas? False\n",
            "Está em minúsculas? False\n",
            "Está capitalizada? True\n"
          ]
        }
      ]
    },
    {
      "cell_type": "code",
      "source": [
        "nome = str(input('Qual é seu nome? '))\n",
        "print(f'Prazer em te conhecer, {nome:>20}!')\n",
        "print(f'Prazer em te conhecer, {nome:<20}!')\n",
        "print('Prazer em te conhecer, {:^20}!'.format(nome))\n",
        "print('Prazer em te conhecer, {:=^20}!'.format(nome))"
      ],
      "metadata": {
        "colab": {
          "base_uri": "https://localhost:8080/"
        },
        "id": "Qs597ShqsEnr",
        "outputId": "35219563-2f85-4518-99b3-d57d3ba09807"
      },
      "execution_count": 29,
      "outputs": [
        {
          "output_type": "stream",
          "name": "stdout",
          "text": [
            "Qual é seu nome? Marcelo\n",
            "Prazer em te conhecer,              Marcelo!\n",
            "Prazer em te conhecer, Marcelo             !\n",
            "Prazer em te conhecer,       Marcelo       !\n",
            "Prazer em te conhecer, ======Marcelo=======!\n"
          ]
        }
      ]
    },
    {
      "cell_type": "code",
      "source": [
        "# ORDEM DE PRECEDÊNCIA\n",
        "\n",
        "# 5 + 3 x 2 = 11\n",
        "# 3 * 5 + 4 ** 2 = 3 * 5 + 16 = 15 + 16 = 31 \n",
        "# 3 * (5 + 4) ** 2 = 3 * 9 ** 2 = 3 * 81 = 243\n",
        "\n",
        "print(pow(4, 3))\n",
        "print(81**(1/2)) # descobrir raiz quadrada de 81 \n",
        "print(127**(1/3)) # descobrir raiz cubica de 127\n",
        "print('='*20)"
      ],
      "metadata": {
        "colab": {
          "base_uri": "https://localhost:8080/"
        },
        "id": "OzwlYfMzl5Pk",
        "outputId": "18cc96f7-ec12-4932-ba4e-718123c6e143"
      },
      "execution_count": 22,
      "outputs": [
        {
          "output_type": "stream",
          "name": "stdout",
          "text": [
            "64\n",
            "9.0\n",
            "5.026525695313479\n",
            "====================\n"
          ]
        }
      ]
    },
    {
      "cell_type": "code",
      "source": [
        "n1 = int(input('Digite o primeiro valor: '))\n",
        "n2 = int(input('Digite o segundo valor: '))\n",
        "print('\\n')\n",
        "s = n1 + n2\n",
        "m = n1 * n2\n",
        "d = n1 / n2\n",
        "di = n1 // n2\n",
        "e = n1 ** n2\n",
        "\n",
        "# PRIMEIRA OPÇÃO\n",
        "print(f'A soma é {s}, o produto é {m} e a divisão é {d:.3f}') # d:.3f > quantidade de casas decimais flutuantes\n",
        "print(f'Divisão inteira {di} e potência {e}')\n",
        "print('\\n')\n",
        "# SEGUNDA OPÇÃO\n",
        "print(f'A soma é {s}, o produto é {m} e a divisão é {d:.3f}', end = ' ') # end = ' ' > printa tudo na mesma linha\n",
        "print(f'Divisão inteira {di} e potência {e}')\n",
        "print('\\n')\n",
        "# TERCEIRA OPÇÃO \n",
        "print(f'A soma é {s},\\n o produto é {m}\\n e a divisão é {d:.3f}\\n', end = ' >>> ') # end = ' ' > printa tudo na mesma linha\n",
        "print(f'Divisão inteira {di} e potência {e}')"
      ],
      "metadata": {
        "colab": {
          "base_uri": "https://localhost:8080/"
        },
        "id": "GJzjQHGAyCpx",
        "outputId": "402d1fd7-751c-4762-f867-2871268dfe1b"
      },
      "execution_count": 18,
      "outputs": [
        {
          "output_type": "stream",
          "name": "stdout",
          "text": [
            "Digite o primeiro valor: 9\n",
            "Digite o segundo valor: 6\n",
            "\n",
            "\n",
            "A soma é 15, o produto é 54 e a divisão é 1.500\n",
            "Divisão inteira 1 e potência 531441\n",
            "\n",
            "\n",
            "A soma é 15, o produto é 54 e a divisão é 1.500 Divisão inteira 1 e potência 531441\n",
            "\n",
            "\n",
            "A soma é 15,\n",
            " o produto é 54\n",
            " e a divisão é 1.500\n",
            " >>> Divisão inteira 1 e potência 531441\n"
          ]
        }
      ]
    }
  ]
}